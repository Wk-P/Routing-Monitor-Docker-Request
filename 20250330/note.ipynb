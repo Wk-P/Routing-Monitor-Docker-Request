{
 "cells": [
  {
   "cell_type": "code",
   "execution_count": 4,
   "metadata": {},
   "outputs": [],
   "source": [
    "import numpy as np\n",
    "import json\n",
    "from pathlib import Path\n",
    "\n",
    "WOKR_DIR = Path().absolute()"
   ]
  },
  {
   "cell_type": "code",
   "execution_count": 5,
   "metadata": {},
   "outputs": [
    {
     "name": "stdout",
     "output_type": "stream",
     "text": [
      "request_number\n",
      "selected_worker_id\n",
      "contention_time\n",
      "real_all_waiting_time\n",
      "predicted_waiting_time\n",
      "real_process_time\n",
      "cpu_spent_usage\n"
     ]
    }
   ],
   "source": [
    "with open(WOKR_DIR / 'all_record_3.json', 'r') as f:\n",
    "    data: dict = json.load(f)\n",
    "\n",
    "\n",
    "for key, value in data.items():\n",
    "    print(key)"
   ]
  },
  {
   "cell_type": "code",
   "execution_count": 6,
   "metadata": {},
   "outputs": [
    {
     "name": "stdout",
     "output_type": "stream",
     "text": [
      "Predicted waiting time mean: 2.1309231971143574\n",
      "Real waiting time mean: 4.374536783368756\n",
      "Mean Error (MEA): -2.243613586254398\n",
      "Mean Absolute Error (MAE): 2.7848758410845678\n",
      "Mean Squared Error (MSE): 14.06814139289282\n",
      "Root Mean Squared Error (RMSE): 3.7507521102963897\n",
      "Symmetric MAPE (SMAPE): 0.8265624771236041\n"
     ]
    }
   ],
   "source": [
    "predicted_waiting_time = data.get('predicted_waiting_time', None)\n",
    "real_waiting_time = data.get(\"real_all_waiting_time\", None)\n",
    "\n",
    "if None not in (predicted_waiting_time, real_waiting_time):\n",
    "    predicted = np.array(predicted_waiting_time)\n",
    "    real = np.array(real_waiting_time)\n",
    "\n",
    "\n",
    "    predicted_waiting_time_mea = np.mean(predicted_waiting_time)\n",
    "    real_waiting_time_mea = np.mean(real_waiting_time)\n",
    "    print(f\"Predicted waiting time mean: {predicted_waiting_time_mea}\")\n",
    "    print(f\"Real waiting time mean: {real_waiting_time_mea}\")\n",
    "    \n",
    "\n",
    "    # MEPA \n",
    "    mea = np.mean(predicted - real)\n",
    "    print(\"Mean Error (MEA):\", mea)\n",
    "\n",
    "    mae = np.mean(np.abs(predicted - real))\n",
    "    print(\"Mean Absolute Error (MAE):\", mae)\n",
    "\n",
    "    # mse rmse\n",
    "    mse = np.mean((predicted - real) ** 2)\n",
    "    rmse = np.sqrt(mse)\n",
    "    print(\"Mean Squared Error (MSE):\", mse)\n",
    "    print(\"Root Mean Squared Error (RMSE):\", rmse)\n",
    "\n",
    "    # smape\n",
    "    smape = np.mean(2 * np.abs(predicted - real) / (np.abs(predicted) + np.abs(real)))\n",
    "    print(\"Symmetric MAPE (SMAPE):\", smape)\n",
    "    \n",
    "else:\n",
    "    print(None)"
   ]
  }
 ],
 "metadata": {
  "kernelspec": {
   "display_name": ".venv",
   "language": "python",
   "name": "python3"
  },
  "language_info": {
   "codemirror_mode": {
    "name": "ipython",
    "version": 3
   },
   "file_extension": ".py",
   "mimetype": "text/x-python",
   "name": "python",
   "nbconvert_exporter": "python",
   "pygments_lexer": "ipython3",
   "version": "3.12.0"
  }
 },
 "nbformat": 4,
 "nbformat_minor": 2
}
