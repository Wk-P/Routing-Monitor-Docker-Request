{
  "nbformat": 4,
  "nbformat_minor": 0,
  "metadata": {
    "colab": {
      "provenance": []
    },
    "kernelspec": {
      "name": "python3",
      "display_name": "Python 3"
    },
    "language_info": {
      "name": "python"
    }
  },
  "cells": [
    {
      "cell_type": "markdown",
      "source": [
        "# Request Prime Counter\n",
        "\n"
      ],
      "metadata": {
        "id": "3VLv1-2RT9xW"
      }
    },
    {
      "cell_type": "code",
      "execution_count": 1,
      "metadata": {
        "id": "Rkdedd1hT8tx"
      },
      "outputs": [],
      "source": [
        "import numpy as np\n",
        "import pandas as pd"
      ]
    },
    {
      "cell_type": "markdown",
      "source": [
        "## - Read samples.txt file"
      ],
      "metadata": {
        "id": "hMjIKhRLcIG-"
      }
    },
    {
      "cell_type": "code",
      "source": [
        "# read file\n",
        "data = pd.read_csv('sample_data/training.txt', sep=\" \", header=None, dtype=str)\n",
        "data = data.astype(float)\n",
        "# print(data)\n",
        "data[[2, 3]] = data[[2, 3]] * (10 ** 2)\n",
        "data = data.dropna(axis=1)\n",
        "print(data)"
      ],
      "metadata": {
        "colab": {
          "base_uri": "https://localhost:8080/"
        },
        "id": "xP99Kt47cDlt",
        "outputId": "149034ce-888b-4e89-c7ef-513c5336afb4"
      },
      "execution_count": 2,
      "outputs": [
        {
          "output_type": "stream",
          "name": "stdout",
          "text": [
            "            0      1          2           3           4    5         6  \\\n",
            "0       971.0  164.0  16.139148  100.000000    2.160820  1.0  0.488348   \n",
            "1      2686.0  389.0  15.916885  100.000000    6.080928  0.0  0.451309   \n",
            "2      6203.0  807.0  16.201186  100.000000    8.224186  1.0  0.488348   \n",
            "3      3775.0  525.0  15.969617   91.733985   11.474194  0.0  0.451309   \n",
            "4      7712.0  978.0  15.961208  100.000000   83.647613  1.0  0.488348   \n",
            "...       ...    ...        ...         ...         ...  ...       ...   \n",
            "49995  4210.0  575.0  16.306502  100.000000    5.118050  1.0  0.475488   \n",
            "49996  3938.0  546.0  15.802902  100.000000  101.251037  0.0  0.441206   \n",
            "49997  1581.0  249.0  15.802902   30.613012  103.656416  0.0  0.441206   \n",
            "49998  4596.0  621.0  16.315808  100.000000   64.993985  1.0  0.475455   \n",
            "49999  4134.0  569.0  16.315808   98.026474   77.640803  1.0  0.475446   \n",
            "\n",
            "              7  \n",
            "0      0.156381  \n",
            "1      0.159841  \n",
            "2      0.156381  \n",
            "3      0.159841  \n",
            "4      0.156381  \n",
            "...         ...  \n",
            "49995  0.155393  \n",
            "49996  0.165572  \n",
            "49997  0.165572  \n",
            "49998  0.158029  \n",
            "49999  0.158029  \n",
            "\n",
            "[50000 rows x 8 columns]\n"
          ]
        }
      ]
    },
    {
      "cell_type": "markdown",
      "source": [
        "## - Label data for features and taget variable"
      ],
      "metadata": {
        "id": "g0nXiBVGUQcM"
      }
    },
    {
      "cell_type": "code",
      "source": [
        "# Split X and Y\n",
        "X = data.drop(data.columns[[1, 2, 6, 7]], axis=1)\n",
        "Y = data.iloc[:, [4]]\n",
        "\n",
        "\n",
        "print(X)\n",
        "print(Y)"
      ],
      "metadata": {
        "colab": {
          "base_uri": "https://localhost:8080/"
        },
        "id": "SEAY6f2OUQL6",
        "outputId": "1bac3f3d-f3cb-4873-93de-87d20d145373"
      },
      "execution_count": 3,
      "outputs": [
        {
          "output_type": "stream",
          "name": "stdout",
          "text": [
            "            0           3           4    5\n",
            "0       971.0  100.000000    2.160820  1.0\n",
            "1      2686.0  100.000000    6.080928  0.0\n",
            "2      6203.0  100.000000    8.224186  1.0\n",
            "3      3775.0   91.733985   11.474194  0.0\n",
            "4      7712.0  100.000000   83.647613  1.0\n",
            "...       ...         ...         ...  ...\n",
            "49995  4210.0  100.000000    5.118050  1.0\n",
            "49996  3938.0  100.000000  101.251037  0.0\n",
            "49997  1581.0   30.613012  103.656416  0.0\n",
            "49998  4596.0  100.000000   64.993985  1.0\n",
            "49999  4134.0   98.026474   77.640803  1.0\n",
            "\n",
            "[50000 rows x 4 columns]\n",
            "                4\n",
            "0        2.160820\n",
            "1        6.080928\n",
            "2        8.224186\n",
            "3       11.474194\n",
            "4       83.647613\n",
            "...           ...\n",
            "49995    5.118050\n",
            "49996  101.251037\n",
            "49997  103.656416\n",
            "49998   64.993985\n",
            "49999   77.640803\n",
            "\n",
            "[50000 rows x 1 columns]\n"
          ]
        }
      ]
    },
    {
      "cell_type": "markdown",
      "source": [
        "## - Common scale"
      ],
      "metadata": {
        "id": "H1TvIeu3brKn"
      }
    },
    {
      "cell_type": "code",
      "source": [
        "from sklearn.preprocessing import StandardScaler, RobustScaler\n",
        "\n",
        "robust_scaler = RobustScaler()\n",
        "X_robust = robust_scaler.fit_transform(X)"
      ],
      "metadata": {
        "id": "9NtXzW0Aby1C"
      },
      "execution_count": 4,
      "outputs": []
    },
    {
      "cell_type": "markdown",
      "source": [
        "## - Split data into training set validation set and testing set"
      ],
      "metadata": {
        "id": "QDj06m-BVTEL"
      }
    },
    {
      "cell_type": "code",
      "source": [
        "from sklearn.model_selection import train_test_split\n",
        "\n",
        "X_train, X_temp, Y_train, Y_temp = train_test_split(X, Y, test_size=0.2, random_state=42)\n",
        "X_val, X_test, Y_val, Y_test = train_test_split(X_temp, Y_temp, test_size=0.5, random_state=42)"
      ],
      "metadata": {
        "id": "gkBZg1q1VkDK"
      },
      "execution_count": 5,
      "outputs": []
    },
    {
      "cell_type": "markdown",
      "source": [
        "# Build MLP Model"
      ],
      "metadata": {
        "id": "g-FZtispWPMj"
      }
    },
    {
      "cell_type": "code",
      "source": [
        "import numpy as np\n",
        "from tensorflow.keras.models import Sequential\n",
        "from tensorflow.keras.layers import Conv1D, MaxPooling1D, Flatten, Dense, LSTM\n",
        "from tensorflow.keras.optimizers import Adam\n",
        "\n",
        "# Convert DataFrames to NumPy arrays and reshape the input data for a 1D CNN\n",
        "X_train = np.array(X_train)\n",
        "X_test = np.array(X_test)\n",
        "X_val = np.array(X_val)\n",
        "\n",
        "# Ensure Y labels are shaped correctly for the model\n",
        "Y_train = np.array(Y_train)\n",
        "Y_test = np.array(Y_test)\n",
        "Y_val = np.array(Y_val)\n",
        "\n",
        "# Build the model with a 1D CNN\n",
        "model = Sequential([\n",
        "    LSTM(64, activation='relu', input_shape=(X_train.shape[1], 1)),\n",
        "    # Dense(64, activation='relu', input_shape=(X_train.shape[1], 1)),\n",
        "    Dense(64, activation='relu'),\n",
        "    Dense(32, activation='relu'),\n",
        "    Dense(1, activation='linear')\n",
        "])\n",
        "\n",
        "# Compile the model with the mean squared error (MSE) loss function\n",
        "model.compile(optimizer=Adam(learning_rate=0.001), loss='mean_squared_error', metrics=['mse'])\n",
        "\n",
        "# Train the model\n",
        "history = model.fit(X_train, Y_train, epochs=10, batch_size=32, validation_data=(X_val, Y_val))\n",
        "\n",
        "# Evaluate the model on the test set\n",
        "loss, mse = model.evaluate(X_test, Y_test)\n",
        "print(f'Test Loss: {loss:.5f}')\n",
        "print(f'Test Mean Squared Error: {mse:.5f}')\n"
      ],
      "metadata": {
        "colab": {
          "base_uri": "https://localhost:8080/"
        },
        "id": "Pw4FOx1DWSz5",
        "outputId": "f909aed7-8b4a-4dab-e34a-d87359558632"
      },
      "execution_count": 10,
      "outputs": [
        {
          "output_type": "stream",
          "name": "stdout",
          "text": [
            "Epoch 1/10\n",
            "1250/1250 [==============================] - 8s 5ms/step - loss: 91.1753 - mse: 91.1753 - val_loss: 8.6826 - val_mse: 8.6826\n",
            "Epoch 2/10\n",
            "1250/1250 [==============================] - 6s 5ms/step - loss: 14.8636 - mse: 14.8636 - val_loss: 3.7211 - val_mse: 3.7211\n",
            "Epoch 3/10\n",
            "1250/1250 [==============================] - 7s 6ms/step - loss: 2.6629 - mse: 2.6629 - val_loss: 1.5135 - val_mse: 1.5135\n",
            "Epoch 4/10\n",
            "1250/1250 [==============================] - 6s 5ms/step - loss: 8.0910 - mse: 8.0910 - val_loss: 0.7011 - val_mse: 0.7011\n",
            "Epoch 5/10\n",
            "1250/1250 [==============================] - 8s 6ms/step - loss: 0.9670 - mse: 0.9670 - val_loss: 1.0652 - val_mse: 1.0652\n",
            "Epoch 6/10\n",
            "1250/1250 [==============================] - 6s 5ms/step - loss: 0.9054 - mse: 0.9054 - val_loss: 2.9487 - val_mse: 2.9487\n",
            "Epoch 7/10\n",
            "1250/1250 [==============================] - 7s 6ms/step - loss: 3.5695 - mse: 3.5695 - val_loss: 0.3148 - val_mse: 0.3148\n",
            "Epoch 8/10\n",
            "1250/1250 [==============================] - 5s 4ms/step - loss: 2.1237 - mse: 2.1237 - val_loss: 0.3743 - val_mse: 0.3743\n",
            "Epoch 9/10\n",
            "1250/1250 [==============================] - 8s 6ms/step - loss: 0.2002 - mse: 0.2002 - val_loss: 0.1524 - val_mse: 0.1524\n",
            "Epoch 10/10\n",
            "1250/1250 [==============================] - 6s 5ms/step - loss: 0.3066 - mse: 0.3066 - val_loss: 0.6217 - val_mse: 0.6217\n",
            "157/157 [==============================] - 0s 2ms/step - loss: 0.5522 - mse: 0.5522\n",
            "Test Loss: 0.55224\n",
            "Test Mean Squared Error: 0.55224\n"
          ]
        }
      ]
    },
    {
      "cell_type": "code",
      "source": [
        "model.save('LSTM_mlp_time_pridection_model.keras')"
      ],
      "metadata": {
        "id": "TKCE7uMRvo9S"
      },
      "execution_count": 11,
      "outputs": []
    }
  ]
}